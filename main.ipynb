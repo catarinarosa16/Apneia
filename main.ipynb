{
 "cells": [
  {
   "cell_type": "code",
   "execution_count": 1,
   "id": "822338c2-91da-4c14-bd73-33a688e9f8c5",
   "metadata": {},
   "outputs": [],
   "source": [
    "%config Completer.use_jedi = False\n",
    "#own imports\n",
    "import preprocessing\n",
    "import featuresExtration\n",
    "\n",
    "#third imports\n",
    "import os\n",
    "%matplotlib inline\n",
    "import matplotlib.pyplot as plt\n",
    "import numpy as np\n",
    "import pandas as pd\n",
    "import pickle\n",
    "import seaborn as sns\n",
    "from sklearn.ensemble import ExtraTreesClassifier, ExtraTreesRegressor, RandomForestClassifier\n",
    "from sklearn.linear_model import LogisticRegression\n",
    "from sklearn.metrics import confusion_matrix,ConfusionMatrixDisplay\n",
    "from sklearn.svm import LinearSVC\n",
    "\n",
    "dir_data = \"./apnea-ecg-database-1.0.0\"\n",
    "dir_data_training = \"./processed/train/\"\n",
    "dir_data_testing = \"./processed/test/\"\n",
    "dir_feactures = \"./feactures\"\n",
    "\n",
    "fs = 100\n",
    "sample = fs * 60\n",
    "\n",
    "filenames_train = [\n",
    "        \"a01\", \"a02\", \"a03\", \"a04\", \"a05\", \"a06\", \"a07\", \"a08\", \"a09\", \"a10\",\n",
    "        \"a11\", \"a12\", \"a13\", \"a14\", \"a15\", \"a16\", \"a17\", \"a18\", \"a19\", \"a20\",\n",
    "        \"b01\", \"b02\", \"b03\", \"b04\", \"b05\",\n",
    "        \"c01\", \"c02\", \"c03\", \"c04\", \"c05\", \"c06\", \"c07\", \"c08\", \"c09\", \"c10\"\n",
    "    ]\n",
    "\n",
    "filename_test = [\n",
    "        \"x01\", \"x02\", \"x03\", \"x04\", \"x05\", \"x06\", \"x07\", \"x08\", \"x09\", \"x10\",\n",
    "        \"x11\", \"x12\", \"x13\", \"x14\", \"x15\", \"x16\", \"x17\", \"x18\", \"x19\", \"x20\",\n",
    "        \"x21\", \"x22\", \"x23\", \"x24\", \"x25\", \"x26\", \"x27\", \"x28\", \"x29\", \"x30\",\n",
    "        \"x31\", \"x32\", \"x33\", \"x34\", \"x35\"\n",
    "    ]\n"
   ]
  },
  {
   "cell_type": "markdown",
   "id": "02a24f7b-d3d7-4d79-b058-d571bcbe032e",
   "metadata": {},
   "source": [
    "# Preprocessing"
   ]
  },
  {
   "cell_type": "code",
   "execution_count": null,
   "id": "e7d0d315-e71e-447e-857a-902db1e22c74",
   "metadata": {
    "tags": []
   },
   "outputs": [],
   "source": [
    "for i in range(len(filenames_train)):\n",
    "    pathtoFile = os.path.join(dir_data, filenames_train[i])\n",
    "    result = preprocessing.processingData(pathtoFile, sample, fs)\n",
    "    \n",
    "    if not os.path.exists(dir_data_training):\n",
    "        os.makedirs(dir_data_training)\n",
    "        \n",
    "    with open(f'{dir_data_training}/{filenames_train[i]}.pkl', 'wb') as file:\n",
    "        pickle.dump(result, file)"
   ]
  },
  {
   "cell_type": "code",
   "execution_count": null,
   "id": "784e1a28-5e7e-4ca2-b694-9736aef8b73f",
   "metadata": {
    "tags": []
   },
   "outputs": [],
   "source": [
    "answers = {}\n",
    "\n",
    "with open(os.path.join(dir_data, \"test-dataset-annos\"), \"r\") as f:\n",
    "    for answer in f.read().split(\"\\n\\n\"):\n",
    "        answers[answer[:3]] = list(\"\".join(answer.split()[2::2]))\n",
    "\n",
    "for i in range(len(filename_test)):\n",
    "    labels = answers[filename_test[i]]\n",
    "    pathtoFile = os.path.join(dir_data, filename_test[i])\n",
    "    result = preprocessing.processingData(pathtoFile, sample, fs, labels=labels)\n",
    "    \n",
    "    if not os.path.exists(dir_data_testing):\n",
    "        os.makedirs(dir_data_testing)\n",
    "        \n",
    "    with open(f'{dir_data_testing}/{filename_test[i]}.pkl', 'wb') as file:\n",
    "        pickle.dump(result, file)\n"
   ]
  },
  {
   "cell_type": "markdown",
   "id": "628ac9ea-d4ee-42f9-bfdc-8aca0cfd384a",
   "metadata": {
    "tags": []
   },
   "source": [
    "# Feactures extract"
   ]
  },
  {
   "cell_type": "code",
   "execution_count": 2,
   "id": "c22d42fd-7540-4941-b056-b11e3201bb12",
   "metadata": {
    "collapsed": true,
    "jupyter": {
     "outputs_hidden": true
    },
    "tags": []
   },
   "outputs": [
    {
     "name": "stdout",
     "output_type": "stream",
     "text": [
      "a01: 100%|█████████████████████████████| 488/488 [00:02<00:00, 181.00it/s]\n",
      "a02: 100%|█████████████████████████████| 528/528 [00:02<00:00, 202.53it/s]\n",
      "a03: 100%|█████████████████████████████| 519/519 [00:02<00:00, 211.94it/s]\n",
      "a04: 100%|█████████████████████████████| 492/492 [00:02<00:00, 208.64it/s]\n",
      "a05: 100%|██████████████████████████████| 453/453 [00:08<00:00, 55.08it/s]\n",
      "a06: 100%|█████████████████████████████| 509/509 [00:03<00:00, 145.28it/s]\n",
      "a07: 100%|█████████████████████████████| 510/510 [00:02<00:00, 196.35it/s]\n",
      "a08: 100%|█████████████████████████████| 500/500 [00:02<00:00, 216.05it/s]\n",
      "a09: 100%|█████████████████████████████| 495/495 [00:02<00:00, 208.83it/s]\n",
      "a10: 100%|█████████████████████████████| 517/517 [00:02<00:00, 194.00it/s]\n",
      "a11: 100%|█████████████████████████████| 466/466 [00:03<00:00, 143.17it/s]\n",
      "a12: 100%|█████████████████████████████| 577/577 [00:02<00:00, 204.76it/s]\n",
      "a13: 100%|█████████████████████████████| 494/494 [00:02<00:00, 197.76it/s]\n",
      "a14: 100%|█████████████████████████████| 509/509 [00:02<00:00, 242.09it/s]\n",
      "a15: 100%|█████████████████████████████| 509/509 [00:02<00:00, 232.01it/s]\n",
      "a16: 100%|█████████████████████████████| 481/481 [00:02<00:00, 210.08it/s]\n",
      "a17: 100%|█████████████████████████████| 476/476 [00:02<00:00, 193.38it/s]\n",
      "a18: 100%|█████████████████████████████| 489/489 [00:03<00:00, 146.91it/s]\n",
      "a19: 100%|█████████████████████████████| 502/502 [00:03<00:00, 162.90it/s]\n",
      "a20: 100%|█████████████████████████████| 510/510 [00:02<00:00, 187.60it/s]\n",
      "b01: 100%|█████████████████████████████| 486/486 [00:02<00:00, 173.97it/s]\n",
      "b02: 100%|█████████████████████████████| 517/517 [00:02<00:00, 186.18it/s]\n",
      "b03: 100%|█████████████████████████████| 440/440 [00:02<00:00, 213.31it/s]\n",
      "b04: 100%|█████████████████████████████| 423/423 [00:01<00:00, 260.98it/s]\n",
      "b05: 100%|█████████████████████████████| 428/428 [00:01<00:00, 244.56it/s]\n",
      "c01: 100%|█████████████████████████████| 478/478 [00:02<00:00, 229.96it/s]\n",
      "c02: 100%|█████████████████████████████| 496/496 [00:02<00:00, 211.09it/s]\n",
      "c03: 100%|█████████████████████████████| 453/453 [00:02<00:00, 176.98it/s]\n",
      "c04: 100%|█████████████████████████████| 473/473 [00:02<00:00, 227.74it/s]\n",
      "c05: 100%|█████████████████████████████| 465/465 [00:01<00:00, 249.01it/s]\n",
      "c06: 100%|█████████████████████████████| 467/467 [00:02<00:00, 226.52it/s]\n",
      "c07: 100%|█████████████████████████████| 428/428 [00:01<00:00, 225.71it/s]\n",
      "c08: 100%|█████████████████████████████| 513/513 [00:02<00:00, 202.21it/s]\n",
      "c09: 100%|█████████████████████████████| 462/462 [00:02<00:00, 213.41it/s]\n",
      "c10: 100%|█████████████████████████████| 424/424 [00:01<00:00, 234.86it/s]\n"
     ]
    }
   ],
   "source": [
    "df_train = pd.DataFrame()\n",
    "\n",
    "for i in range(len(filenames_train)):\n",
    "    pathtoFile = os.path.join(dir_data_training, filenames_train[i]) + \".pkl\"\n",
    "    file = pd.read_pickle(pathtoFile)\n",
    "    df_features = featuresExtration._calculate_features(file, filenames_train[i])\n",
    "    \n",
    "    df_train = df_train.append(df_features, ignore_index=True)\n",
    "\n",
    "#Saving feactures file --- Train\n",
    "if not os.path.exists(dir_feactures):\n",
    "    os.makedirs(dir_feactures)\n",
    "df_train.dropna(inplace=True)\n",
    "df_train.to_csv(f'{dir_feactures}/FeaturesTrain.csv', index=False)"
   ]
  },
  {
   "cell_type": "code",
   "execution_count": 3,
   "id": "2eeb0246-c6c9-4e99-8c21-9cf4c47ae15d",
   "metadata": {
    "collapsed": true,
    "jupyter": {
     "outputs_hidden": true
    },
    "tags": []
   },
   "outputs": [
    {
     "name": "stdout",
     "output_type": "stream",
     "text": [
      "x01: 100%|██████████████████████████████| 522/522 [00:06<00:00, 76.36it/s]\n",
      "x02: 100%|█████████████████████████████| 469/469 [00:02<00:00, 214.91it/s]\n",
      "x03: 100%|█████████████████████████████| 465/465 [00:02<00:00, 166.69it/s]\n",
      "x04: 100%|█████████████████████████████| 477/477 [00:02<00:00, 179.59it/s]\n",
      "x05: 100%|█████████████████████████████| 504/504 [00:03<00:00, 167.92it/s]\n",
      "x06: 100%|█████████████████████████████| 444/444 [00:02<00:00, 198.12it/s]\n",
      "x07: 100%|█████████████████████████████| 508/508 [00:02<00:00, 224.56it/s]\n",
      "x08: 100%|█████████████████████████████| 517/517 [00:03<00:00, 158.88it/s]\n",
      "x09: 100%|█████████████████████████████| 508/508 [00:02<00:00, 210.80it/s]\n",
      "x10: 100%|█████████████████████████████| 510/510 [00:02<00:00, 215.69it/s]\n",
      "x11: 100%|█████████████████████████████| 456/456 [00:01<00:00, 228.80it/s]\n",
      "x12: 100%|█████████████████████████████| 527/527 [00:03<00:00, 171.92it/s]\n",
      "x13: 100%|█████████████████████████████| 506/506 [00:02<00:00, 219.47it/s]\n",
      "x14: 100%|██████████████████████████████| 489/489 [00:08<00:00, 58.75it/s]\n",
      "x15: 100%|█████████████████████████████| 498/498 [00:02<00:00, 223.40it/s]\n",
      "x16: 100%|█████████████████████████████| 515/515 [00:02<00:00, 209.52it/s]\n",
      "x17: 100%|█████████████████████████████| 395/395 [00:01<00:00, 270.00it/s]\n",
      "x18: 100%|█████████████████████████████| 447/447 [00:02<00:00, 191.91it/s]\n",
      "x19: 100%|█████████████████████████████| 487/487 [00:02<00:00, 229.13it/s]\n",
      "x20: 100%|█████████████████████████████| 497/497 [00:02<00:00, 234.58it/s]\n",
      "x21: 100%|█████████████████████████████| 509/509 [00:02<00:00, 227.29it/s]\n",
      "x22: 100%|█████████████████████████████| 475/475 [00:01<00:00, 243.49it/s]\n",
      "x23: 100%|█████████████████████████████| 527/527 [00:02<00:00, 202.02it/s]\n",
      "x24: 100%|█████████████████████████████| 422/422 [00:01<00:00, 222.64it/s]\n",
      "x25: 100%|█████████████████████████████| 509/509 [00:02<00:00, 196.47it/s]\n",
      "x26: 100%|█████████████████████████████| 519/519 [00:02<00:00, 214.70it/s]\n",
      "x27: 100%|█████████████████████████████| 498/498 [00:02<00:00, 191.06it/s]\n",
      "x28: 100%|█████████████████████████████| 494/494 [00:02<00:00, 236.98it/s]\n",
      "x29: 100%|█████████████████████████████| 461/461 [00:02<00:00, 197.23it/s]\n",
      "x30: 100%|█████████████████████████████| 511/511 [00:02<00:00, 231.29it/s]\n",
      "x31: 100%|█████████████████████████████| 557/557 [00:02<00:00, 233.63it/s]\n",
      "x32: 100%|█████████████████████████████| 537/537 [00:02<00:00, 225.54it/s]\n",
      "x33: 100%|█████████████████████████████| 472/472 [00:02<00:00, 205.41it/s]\n",
      "x34: 100%|█████████████████████████████| 474/474 [00:02<00:00, 220.00it/s]\n",
      "x35: 100%|█████████████████████████████| 477/477 [00:01<00:00, 240.34it/s]\n"
     ]
    }
   ],
   "source": [
    "df_test = pd.DataFrame()\n",
    "\n",
    "for i in range(len(filename_test)):\n",
    "    pathtoFile = os.path.join(dir_data_testing, filename_test[i]) + \".pkl\"\n",
    "    file = pd.read_pickle(pathtoFile)\n",
    "    \n",
    "    df_features = featuresExtration._calculate_features(file, filename_test[i])\n",
    "    \n",
    "    df_test = df_test.append(df_features, ignore_index=True)\n",
    "\n",
    "#Saving feactures file --- Test\n",
    "if not os.path.exists(dir_feactures):\n",
    "    os.makedirs(dir_feactures)\n",
    "df_test.dropna(inplace=True)\n",
    "df_test.to_csv(f'{dir_feactures}/FeaturesTest.csv', index=False)"
   ]
  },
  {
   "cell_type": "markdown",
   "id": "4383176e-c920-4c1e-b0e4-ecba67b1943d",
   "metadata": {},
   "source": [
    "# Feactures Selection"
   ]
  },
  {
   "cell_type": "code",
   "execution_count": 2,
   "id": "b30d9b9d-4230-4c7f-b77d-5f68691fe1ea",
   "metadata": {},
   "outputs": [],
   "source": [
    "from sklearn.feature_selection import SelectKBest , chi2\n",
    "from sklearn.preprocessing import StandardScaler\n",
    "from sklearn.feature_selection import SelectFromModel\n",
    "\n",
    "df_train = pd.read_csv(f'{dir_feactures}/FeaturesTrain.csv')\n",
    "df_test = pd.read_csv(f'{dir_feactures}/FeaturesTest.csv')\n",
    "\n",
    "df_temp = df_test.drop(['apn'], axis=1)\n",
    "\n",
    "corr = df_temp.corr()\n",
    "corr = corr.where(np.tril(np.ones(corr.shape), k=-1).astype(np.bool))"
   ]
  },
  {
   "cell_type": "code",
   "execution_count": 3,
   "id": "d44bd015-f8cd-4f4c-9711-a565ca057701",
   "metadata": {
    "tags": []
   },
   "outputs": [
    {
     "data": {
      "text/plain": [
       "<AxesSubplot:>"
      ]
     },
     "execution_count": 3,
     "metadata": {},
     "output_type": "execute_result"
    },
    {
     "data": {
      "image/png": "[encoded data removed]",
      "text/plain": [
       "<Figure size 1152x1008 with 2 Axes>"
      ]
     },
     "metadata": {
      "needs_background": "light"
     },
     "output_type": "display_data"
    }
   ],
   "source": [
    "f, ax = plt.subplots(figsize=(16, 14))\n",
    "cmap = sns.diverging_palette(220, 10, as_cmap=True)\n",
    "sns.heatmap(corr.abs(), cmap=cmap, center=0,\n",
    "            square=True, linewidths=.5, cbar_kws={\"shrink\": .5})"
   ]
  },
  {
   "cell_type": "code",
   "execution_count": 4,
   "id": "0e63f288-4588-4d3e-8c97-4e7f9adc1d62",
   "metadata": {},
   "outputs": [],
   "source": [
    "to_drop = [column for column in corr.columns if any(corr.abs()[column] > 0.98)]\n",
    "df_train = df_train.drop(to_drop, axis=1)\n",
    "df_test = df_test.drop(to_drop, axis=1)"
   ]
  },
  {
   "cell_type": "code",
   "execution_count": 5,
   "id": "1231fd81-a66a-4035-958f-152c21fddbab",
   "metadata": {},
   "outputs": [],
   "source": [
    "#Train Data preparation\n",
    "#Normalização\n",
    "apn_train = df_train['apn']\n",
    "df_train_n_apn = df_train.drop(['apn'], axis=1)\n",
    "df_train_n_apn = (df_train_n_apn - df_train_n_apn.mean()) / df_train_n_apn.std()\n",
    "\n",
    "#Test Data preparation\n",
    "apn_test = df_test['apn']\n",
    "df_test_n_apn = df_test.drop(['apn'], axis=1)\n",
    "df_test_n_apn = (df_test_n_apn - df_test_n_apn.mean()) / df_test_n_apn.std()\n"
   ]
  },
  {
   "cell_type": "code",
   "execution_count": 6,
   "id": "31f11693-5f69-4a2b-a0df-434284628ae6",
   "metadata": {},
   "outputs": [],
   "source": [
    "#model0 = SelectKBest(chi2, k=10).fit_transform(df_train_n_apn, apn_train)\n",
    "\n",
    "model1 = ExtraTreesClassifier(n_estimators=50)\n",
    "model1.fit(df_train_n_apn, apn_train)\n",
    "\n",
    "model = SelectFromModel(model1, prefit=True)\n",
    "X_train = model.transform(df_train_n_apn)\n",
    "X_test = model.transform(df_test_n_apn)"
   ]
  },
  {
   "cell_type": "code",
   "execution_count": 7,
   "id": "f749e6cc-591d-4b2a-a34f-f1163f9504eb",
   "metadata": {
    "tags": []
   },
   "outputs": [
    {
     "data": {
      "image/png": "[encoded data removed]",
      "text/plain": [
       "<Figure size 720x720 with 1 Axes>"
      ]
     },
     "metadata": {
      "needs_background": "light"
     },
     "output_type": "display_data"
    }
   ],
   "source": [
    "temp = pd.DataFrame(data=model1.feature_importances_, index=df_train_n_apn.columns, columns=['importance'])\n",
    "ax = temp.sort_values('importance').plot.barh(figsize=(10,10))"
   ]
  },
  {
   "cell_type": "code",
   "execution_count": 8,
   "id": "43547298-b926-49f7-9fcf-7242fb35e9c7",
   "metadata": {
    "tags": []
   },
   "outputs": [
    {
     "ename": "NameError",
     "evalue": "name 'model2' is not defined",
     "output_type": "error",
     "traceback": [
      "\u001b[0;31m---------------------------------------------------------------------------\u001b[0m",
      "\u001b[0;31mNameError\u001b[0m                                 Traceback (most recent call last)",
      "\u001b[0;32m/tmp/ipykernel_46266/1469399674.py\u001b[0m in \u001b[0;36m<module>\u001b[0;34m\u001b[0m\n\u001b[0;32m----> 1\u001b[0;31m \u001b[0mtemp\u001b[0m \u001b[0;34m=\u001b[0m \u001b[0mpd\u001b[0m\u001b[0;34m.\u001b[0m\u001b[0mDataFrame\u001b[0m\u001b[0;34m(\u001b[0m\u001b[0mdata\u001b[0m\u001b[0;34m=\u001b[0m\u001b[0mmodel2\u001b[0m\u001b[0;34m.\u001b[0m\u001b[0mfeature_importances_\u001b[0m\u001b[0;34m,\u001b[0m \u001b[0mindex\u001b[0m\u001b[0;34m=\u001b[0m\u001b[0mdf_train_n_apn\u001b[0m\u001b[0;34m.\u001b[0m\u001b[0mcolumns\u001b[0m\u001b[0;34m,\u001b[0m \u001b[0mcolumns\u001b[0m\u001b[0;34m=\u001b[0m\u001b[0;34m[\u001b[0m\u001b[0;34m'importance'\u001b[0m\u001b[0;34m]\u001b[0m\u001b[0;34m)\u001b[0m\u001b[0;34m\u001b[0m\u001b[0;34m\u001b[0m\u001b[0m\n\u001b[0m\u001b[1;32m      2\u001b[0m \u001b[0max\u001b[0m \u001b[0;34m=\u001b[0m \u001b[0mtemp\u001b[0m\u001b[0;34m.\u001b[0m\u001b[0msort_values\u001b[0m\u001b[0;34m(\u001b[0m\u001b[0;34m'importance'\u001b[0m\u001b[0;34m)\u001b[0m\u001b[0;34m.\u001b[0m\u001b[0mplot\u001b[0m\u001b[0;34m.\u001b[0m\u001b[0mbarh\u001b[0m\u001b[0;34m(\u001b[0m\u001b[0mfigsize\u001b[0m\u001b[0;34m=\u001b[0m\u001b[0;34m(\u001b[0m\u001b[0;36m10\u001b[0m\u001b[0;34m,\u001b[0m\u001b[0;36m10\u001b[0m\u001b[0;34m)\u001b[0m\u001b[0;34m)\u001b[0m\u001b[0;34m\u001b[0m\u001b[0;34m\u001b[0m\u001b[0m\n",
      "\u001b[0;31mNameError\u001b[0m: name 'model2' is not defined"
     ]
    }
   ],
   "source": [
    "temp = pd.DataFrame(data=model2.feature_importances_, index=df_train_n_apn.columns, columns=['importance'])\n",
    "ax = temp.sort_values('importance').plot.barh(figsize=(10,10))"
   ]
  },
  {
   "cell_type": "markdown",
   "id": "6378c92d-1154-47ff-9197-2e2011a00072",
   "metadata": {
    "tags": []
   },
   "source": [
    "# Classification"
   ]
  },
  {
   "cell_type": "code",
   "execution_count": 13,
   "id": "6bafff3a-6d2d-4f55-bdcc-68e6b93bc940",
   "metadata": {},
   "outputs": [
    {
     "data": {
      "text/plain": [
       "MLPClassifier(alpha=1, hidden_layer_sizes=(15,), max_iter=1000)"
      ]
     },
     "execution_count": 13,
     "metadata": {},
     "output_type": "execute_result"
    }
   ],
   "source": [
    "from sklearn.neural_network import MLPClassifier\n",
    "\n",
    "model2 = RandomForestClassifier(random_state=0)\n",
    "model2.fit(X_train, apn_train)\n",
    "\n",
    "model3 = LinearSVC(random_state=0, tol=1e-5)\n",
    "model3.fit(X_train, apn_train)\n",
    "\n",
    "model4 = MLPClassifier(hidden_layer_sizes=(X_train.shape[1] * 2 + 1,), alpha=1, max_iter=1000)\n",
    "model4.fit(X_train, apn_train)"
   ]
  },
  {
   "cell_type": "code",
   "execution_count": 24,
   "id": "2de6d520-2fc6-4f55-ada8-f0149e5337dd",
   "metadata": {},
   "outputs": [
    {
     "name": "stdout",
     "output_type": "stream",
     "text": [
      "[0. 0. 1. ... 0. 0. 0.]\n",
      "0        0.0\n",
      "1        0.0\n",
      "2        0.0\n",
      "3        0.0\n",
      "4        0.0\n",
      "        ... \n",
      "16728    0.0\n",
      "16729    0.0\n",
      "16730    0.0\n",
      "16731    0.0\n",
      "16732    0.0\n",
      "Name: apn, Length: 16733, dtype: float64\n"
     ]
    }
   ],
   "source": [
    "print(model2.predict(X_test))\n",
    "\n",
    "print(apn_test)"
   ]
  },
  {
   "cell_type": "code",
   "execution_count": 20,
   "id": "3cca4d09-bba9-4c5b-95ae-bcface36eda9",
   "metadata": {},
   "outputs": [
    {
     "name": "stdout",
     "output_type": "stream",
     "text": [
      "1.0\n",
      "0.7565290145222017\n",
      "0.7544971015358871\n",
      "0.7702145461064962\n"
     ]
    }
   ],
   "source": [
    "print(model2.score(X_test, apn_test))\n",
    "print(model3.score(X_test, apn_test))\n",
    "print(model4.score(X_test, apn_test))"
   ]
  },
  {
   "cell_type": "code",
   "execution_count": 19,
   "id": "61f8d5b4-044e-415d-99df-a0ee438278e6",
   "metadata": {},
   "outputs": [
    {
     "ename": "ValueError",
     "evalue": "X has 7 features, but ExtraTreeClassifier is expecting 25 features as input.",
     "output_type": "error",
     "traceback": [
      "\u001b[0;31m---------------------------------------------------------------------------\u001b[0m",
      "\u001b[0;31mValueError\u001b[0m                                Traceback (most recent call last)",
      "\u001b[0;32m/tmp/ipykernel_46266/2616993810.py\u001b[0m in \u001b[0;36m<module>\u001b[0;34m\u001b[0m\n\u001b[0;32m----> 1\u001b[0;31m \u001b[0my_pred\u001b[0m \u001b[0;34m=\u001b[0m \u001b[0mmodel1\u001b[0m\u001b[0;34m.\u001b[0m\u001b[0mpredict\u001b[0m\u001b[0;34m(\u001b[0m\u001b[0mX_test\u001b[0m\u001b[0;34m)\u001b[0m\u001b[0;34m\u001b[0m\u001b[0;34m\u001b[0m\u001b[0m\n\u001b[0m\u001b[1;32m      2\u001b[0m \u001b[0mC\u001b[0m \u001b[0;34m=\u001b[0m \u001b[0mconfusion_matrix\u001b[0m\u001b[0;34m(\u001b[0m\u001b[0mapn_test\u001b[0m\u001b[0;34m,\u001b[0m \u001b[0my_pred\u001b[0m\u001b[0;34m,\u001b[0m \u001b[0mlabels\u001b[0m\u001b[0;34m=\u001b[0m\u001b[0;34m(\u001b[0m\u001b[0;36m1\u001b[0m\u001b[0;34m,\u001b[0m \u001b[0;36m0\u001b[0m\u001b[0;34m)\u001b[0m\u001b[0;34m)\u001b[0m\u001b[0;34m\u001b[0m\u001b[0;34m\u001b[0m\u001b[0m\n\u001b[1;32m      3\u001b[0m \u001b[0mTP\u001b[0m\u001b[0;34m,\u001b[0m \u001b[0mTN\u001b[0m\u001b[0;34m,\u001b[0m \u001b[0mFP\u001b[0m\u001b[0;34m,\u001b[0m \u001b[0mFN\u001b[0m \u001b[0;34m=\u001b[0m \u001b[0mC\u001b[0m\u001b[0;34m[\u001b[0m\u001b[0;36m0\u001b[0m\u001b[0;34m,\u001b[0m \u001b[0;36m0\u001b[0m\u001b[0;34m]\u001b[0m\u001b[0;34m,\u001b[0m \u001b[0mC\u001b[0m\u001b[0;34m[\u001b[0m\u001b[0;36m1\u001b[0m\u001b[0;34m,\u001b[0m \u001b[0;36m1\u001b[0m\u001b[0;34m]\u001b[0m\u001b[0;34m,\u001b[0m \u001b[0mC\u001b[0m\u001b[0;34m[\u001b[0m\u001b[0;36m1\u001b[0m\u001b[0;34m,\u001b[0m \u001b[0;36m0\u001b[0m\u001b[0;34m]\u001b[0m\u001b[0;34m,\u001b[0m \u001b[0mC\u001b[0m\u001b[0;34m[\u001b[0m\u001b[0;36m0\u001b[0m\u001b[0;34m,\u001b[0m \u001b[0;36m1\u001b[0m\u001b[0;34m]\u001b[0m\u001b[0;34m\u001b[0m\u001b[0;34m\u001b[0m\u001b[0m\n\u001b[1;32m      4\u001b[0m \u001b[0macc\u001b[0m\u001b[0;34m,\u001b[0m \u001b[0msn\u001b[0m\u001b[0;34m,\u001b[0m \u001b[0msp\u001b[0m \u001b[0;34m=\u001b[0m \u001b[0;36m1.\u001b[0m \u001b[0;34m*\u001b[0m \u001b[0;34m(\u001b[0m\u001b[0mTP\u001b[0m \u001b[0;34m+\u001b[0m \u001b[0mTN\u001b[0m\u001b[0;34m)\u001b[0m \u001b[0;34m/\u001b[0m \u001b[0;34m(\u001b[0m\u001b[0mTP\u001b[0m \u001b[0;34m+\u001b[0m \u001b[0mTN\u001b[0m \u001b[0;34m+\u001b[0m \u001b[0mFP\u001b[0m \u001b[0;34m+\u001b[0m \u001b[0mFN\u001b[0m\u001b[0;34m)\u001b[0m\u001b[0;34m,\u001b[0m \u001b[0;36m1.\u001b[0m \u001b[0;34m*\u001b[0m \u001b[0mTP\u001b[0m \u001b[0;34m/\u001b[0m \u001b[0;34m(\u001b[0m\u001b[0mTP\u001b[0m \u001b[0;34m+\u001b[0m \u001b[0mFN\u001b[0m\u001b[0;34m)\u001b[0m\u001b[0;34m,\u001b[0m \u001b[0;36m1.\u001b[0m \u001b[0;34m*\u001b[0m \u001b[0mTN\u001b[0m \u001b[0;34m/\u001b[0m \u001b[0;34m(\u001b[0m\u001b[0mTN\u001b[0m \u001b[0;34m+\u001b[0m \u001b[0mFP\u001b[0m\u001b[0;34m)\u001b[0m\u001b[0;34m\u001b[0m\u001b[0;34m\u001b[0m\u001b[0m\n\u001b[1;32m      5\u001b[0m \u001b[0mprint\u001b[0m\u001b[0;34m(\u001b[0m\u001b[0;34m\"acc: {}, sn: {}, sp: {}\"\u001b[0m\u001b[0;34m.\u001b[0m\u001b[0mformat\u001b[0m\u001b[0;34m(\u001b[0m\u001b[0macc\u001b[0m\u001b[0;34m,\u001b[0m \u001b[0msn\u001b[0m\u001b[0;34m,\u001b[0m \u001b[0msp\u001b[0m\u001b[0;34m)\u001b[0m\u001b[0;34m)\u001b[0m\u001b[0;34m\u001b[0m\u001b[0;34m\u001b[0m\u001b[0m\n",
      "\u001b[0;32m~/.local/lib/python3.8/site-packages/sklearn/ensemble/_forest.py\u001b[0m in \u001b[0;36mpredict\u001b[0;34m(self, X)\u001b[0m\n\u001b[1;32m    628\u001b[0m             \u001b[0mThe\u001b[0m \u001b[0mpredicted\u001b[0m \u001b[0mclasses\u001b[0m\u001b[0;34m.\u001b[0m\u001b[0;34m\u001b[0m\u001b[0;34m\u001b[0m\u001b[0m\n\u001b[1;32m    629\u001b[0m         \"\"\"\n\u001b[0;32m--> 630\u001b[0;31m         \u001b[0mproba\u001b[0m \u001b[0;34m=\u001b[0m \u001b[0mself\u001b[0m\u001b[0;34m.\u001b[0m\u001b[0mpredict_proba\u001b[0m\u001b[0;34m(\u001b[0m\u001b[0mX\u001b[0m\u001b[0;34m)\u001b[0m\u001b[0;34m\u001b[0m\u001b[0;34m\u001b[0m\u001b[0m\n\u001b[0m\u001b[1;32m    631\u001b[0m \u001b[0;34m\u001b[0m\u001b[0m\n\u001b[1;32m    632\u001b[0m         \u001b[0;32mif\u001b[0m \u001b[0mself\u001b[0m\u001b[0;34m.\u001b[0m\u001b[0mn_outputs_\u001b[0m \u001b[0;34m==\u001b[0m \u001b[0;36m1\u001b[0m\u001b[0;34m:\u001b[0m\u001b[0;34m\u001b[0m\u001b[0;34m\u001b[0m\u001b[0m\n",
      "\u001b[0;32m~/.local/lib/python3.8/site-packages/sklearn/ensemble/_forest.py\u001b[0m in \u001b[0;36mpredict_proba\u001b[0;34m(self, X)\u001b[0m\n\u001b[1;32m    672\u001b[0m         \u001b[0mcheck_is_fitted\u001b[0m\u001b[0;34m(\u001b[0m\u001b[0mself\u001b[0m\u001b[0;34m)\u001b[0m\u001b[0;34m\u001b[0m\u001b[0;34m\u001b[0m\u001b[0m\n\u001b[1;32m    673\u001b[0m         \u001b[0;31m# Check data\u001b[0m\u001b[0;34m\u001b[0m\u001b[0;34m\u001b[0m\u001b[0;34m\u001b[0m\u001b[0m\n\u001b[0;32m--> 674\u001b[0;31m         \u001b[0mX\u001b[0m \u001b[0;34m=\u001b[0m \u001b[0mself\u001b[0m\u001b[0;34m.\u001b[0m\u001b[0m_validate_X_predict\u001b[0m\u001b[0;34m(\u001b[0m\u001b[0mX\u001b[0m\u001b[0;34m)\u001b[0m\u001b[0;34m\u001b[0m\u001b[0;34m\u001b[0m\u001b[0m\n\u001b[0m\u001b[1;32m    675\u001b[0m \u001b[0;34m\u001b[0m\u001b[0m\n\u001b[1;32m    676\u001b[0m         \u001b[0;31m# Assign chunk of trees to jobs\u001b[0m\u001b[0;34m\u001b[0m\u001b[0;34m\u001b[0m\u001b[0;34m\u001b[0m\u001b[0m\n",
      "\u001b[0;32m~/.local/lib/python3.8/site-packages/sklearn/ensemble/_forest.py\u001b[0m in \u001b[0;36m_validate_X_predict\u001b[0;34m(self, X)\u001b[0m\n\u001b[1;32m    420\u001b[0m         \u001b[0mcheck_is_fitted\u001b[0m\u001b[0;34m(\u001b[0m\u001b[0mself\u001b[0m\u001b[0;34m)\u001b[0m\u001b[0;34m\u001b[0m\u001b[0;34m\u001b[0m\u001b[0m\n\u001b[1;32m    421\u001b[0m \u001b[0;34m\u001b[0m\u001b[0m\n\u001b[0;32m--> 422\u001b[0;31m         \u001b[0;32mreturn\u001b[0m \u001b[0mself\u001b[0m\u001b[0;34m.\u001b[0m\u001b[0mestimators_\u001b[0m\u001b[0;34m[\u001b[0m\u001b[0;36m0\u001b[0m\u001b[0;34m]\u001b[0m\u001b[0;34m.\u001b[0m\u001b[0m_validate_X_predict\u001b[0m\u001b[0;34m(\u001b[0m\u001b[0mX\u001b[0m\u001b[0;34m,\u001b[0m \u001b[0mcheck_input\u001b[0m\u001b[0;34m=\u001b[0m\u001b[0;32mTrue\u001b[0m\u001b[0;34m)\u001b[0m\u001b[0;34m\u001b[0m\u001b[0;34m\u001b[0m\u001b[0m\n\u001b[0m\u001b[1;32m    423\u001b[0m \u001b[0;34m\u001b[0m\u001b[0m\n\u001b[1;32m    424\u001b[0m     \u001b[0;34m@\u001b[0m\u001b[0mproperty\u001b[0m\u001b[0;34m\u001b[0m\u001b[0;34m\u001b[0m\u001b[0m\n",
      "\u001b[0;32m~/.local/lib/python3.8/site-packages/sklearn/tree/_classes.py\u001b[0m in \u001b[0;36m_validate_X_predict\u001b[0;34m(self, X, check_input)\u001b[0m\n\u001b[1;32m    405\u001b[0m         \u001b[0;34m\"\"\"Validate the training data on predict (probabilities).\"\"\"\u001b[0m\u001b[0;34m\u001b[0m\u001b[0;34m\u001b[0m\u001b[0m\n\u001b[1;32m    406\u001b[0m         \u001b[0;32mif\u001b[0m \u001b[0mcheck_input\u001b[0m\u001b[0;34m:\u001b[0m\u001b[0;34m\u001b[0m\u001b[0;34m\u001b[0m\u001b[0m\n\u001b[0;32m--> 407\u001b[0;31m             X = self._validate_data(X, dtype=DTYPE, accept_sparse=\"csr\",\n\u001b[0m\u001b[1;32m    408\u001b[0m                                     reset=False)\n\u001b[1;32m    409\u001b[0m             if issparse(X) and (X.indices.dtype != np.intc or\n",
      "\u001b[0;32m~/.local/lib/python3.8/site-packages/sklearn/base.py\u001b[0m in \u001b[0;36m_validate_data\u001b[0;34m(self, X, y, reset, validate_separately, **check_params)\u001b[0m\n\u001b[1;32m    435\u001b[0m \u001b[0;34m\u001b[0m\u001b[0m\n\u001b[1;32m    436\u001b[0m         \u001b[0;32mif\u001b[0m \u001b[0mcheck_params\u001b[0m\u001b[0;34m.\u001b[0m\u001b[0mget\u001b[0m\u001b[0;34m(\u001b[0m\u001b[0;34m'ensure_2d'\u001b[0m\u001b[0;34m,\u001b[0m \u001b[0;32mTrue\u001b[0m\u001b[0;34m)\u001b[0m\u001b[0;34m:\u001b[0m\u001b[0;34m\u001b[0m\u001b[0;34m\u001b[0m\u001b[0m\n\u001b[0;32m--> 437\u001b[0;31m             \u001b[0mself\u001b[0m\u001b[0;34m.\u001b[0m\u001b[0m_check_n_features\u001b[0m\u001b[0;34m(\u001b[0m\u001b[0mX\u001b[0m\u001b[0;34m,\u001b[0m \u001b[0mreset\u001b[0m\u001b[0;34m=\u001b[0m\u001b[0mreset\u001b[0m\u001b[0;34m)\u001b[0m\u001b[0;34m\u001b[0m\u001b[0;34m\u001b[0m\u001b[0m\n\u001b[0m\u001b[1;32m    438\u001b[0m \u001b[0;34m\u001b[0m\u001b[0m\n\u001b[1;32m    439\u001b[0m         \u001b[0;32mreturn\u001b[0m \u001b[0mout\u001b[0m\u001b[0;34m\u001b[0m\u001b[0;34m\u001b[0m\u001b[0m\n",
      "\u001b[0;32m~/.local/lib/python3.8/site-packages/sklearn/base.py\u001b[0m in \u001b[0;36m_check_n_features\u001b[0;34m(self, X, reset)\u001b[0m\n\u001b[1;32m    363\u001b[0m \u001b[0;34m\u001b[0m\u001b[0m\n\u001b[1;32m    364\u001b[0m         \u001b[0;32mif\u001b[0m \u001b[0mn_features\u001b[0m \u001b[0;34m!=\u001b[0m \u001b[0mself\u001b[0m\u001b[0;34m.\u001b[0m\u001b[0mn_features_in_\u001b[0m\u001b[0;34m:\u001b[0m\u001b[0;34m\u001b[0m\u001b[0;34m\u001b[0m\u001b[0m\n\u001b[0;32m--> 365\u001b[0;31m             raise ValueError(\n\u001b[0m\u001b[1;32m    366\u001b[0m                 \u001b[0;34mf\"X has {n_features} features, but {self.__class__.__name__} \"\u001b[0m\u001b[0;34m\u001b[0m\u001b[0;34m\u001b[0m\u001b[0m\n\u001b[1;32m    367\u001b[0m                 f\"is expecting {self.n_features_in_} features as input.\")\n",
      "\u001b[0;31mValueError\u001b[0m: X has 7 features, but ExtraTreeClassifier is expecting 25 features as input."
     ]
    }
   ],
   "source": [
    "y_pred = model1.predict(X_test)\n",
    "C = confusion_matrix(apn_test, y_pred, labels=(1, 0))\n",
    "TP, TN, FP, FN = C[0, 0], C[1, 1], C[1, 0], C[0, 1]\n",
    "acc, sn, sp = 1. * (TP + TN) / (TP + TN + FP + FN), 1. * TP / (TP + FN), 1. * TN / (TN + FP)\n",
    "print(\"acc: {}, sn: {}, sp: {}\".format(acc, sn, sp))\n",
    "\n",
    "disp = ConfusionMatrixDisplay(confusion_matrix=C, display_labels=model1.classes_)\n",
    "disp.plot()"
   ]
  },
  {
   "cell_type": "markdown",
   "id": "62fed1a5-70ce-42a4-89a1-0d9e40712301",
   "metadata": {},
   "source": [
    "# testes"
   ]
  },
  {
   "cell_type": "code",
   "execution_count": null,
   "id": "5b4a7bd8-292d-4288-9e12-7bb89f18e5fd",
   "metadata": {},
   "outputs": [],
   "source": [
    "import neurokit2 as nk\n",
    "from scipy.signal import detrend, find_peaks\n",
    "from hrv.classical import frequency_domain\n",
    "\n",
    "pathtoFile = os.path.join(dir_data_testing, filename_test[3]) + \".pkl\"\n",
    "file = pd.read_pickle(pathtoFile)\n",
    "ecg = file[\"ecg\"][3]\n",
    "rpeaks = file[\"rpeaks\"][3]\n",
    "rri = file[\"rri\"][3]\n",
    "\n",
    "edr2 = ecg[rpeaks]\n",
    "edr2 = (edr2 - edr2.mean()) / edr2.std()\n",
    "\n",
    "hr = 60 / rri\n",
    "edr3 = detrend(hr)\n",
    "edr3 = (edr3 - edr3.mean()) / edr3.std()\n",
    "\n",
    "edr_peaks,_ = find_peaks(edr3, height=0, distance=4) \n",
    "\n",
    "edr_peaks = edr_peaks\n",
    "resp_peaks_diff = np.diff(edr_peaks)\n",
    "\n",
    "#print(edr1 , edr2, edr3)\n",
    "#df_features = featuresExtration._calculate_features(file, filename_test[0])\n",
    "#print(df_features)\n",
    "\n",
    "#plt.plot(edr1, '-')\n",
    "#plt.plot(edr2, '-')\n",
    "plt.plot(edr3, '-')\n",
    "_ = plt.title('ECG derived respiration')\n",
    "plt.plot(edr_peaks, edr3[edr_peaks], 'o')\n",
    "_ = plt.title('ECG derived respiration')\n",
    "\n",
    "print(edr3.size)\n",
    "# Extract the mean respiratory rate over the selected window\n",
    "mresprate = edr_peaks.size / 60\n",
    "print('Mean respiratory rate: %.2f Hz' % mresprate)\n",
    "print('Mean respiratory period: %.2f seconds' % (1 / mresprate))\n",
    "print('Respiration RMS: %.2f seconds' % np.sqrt(np.mean(resp_peaks_diff**2)))\n",
    "print('Respiration STD: %.2f seconds' % np.std(resp_peaks_diff))"
   ]
  },
  {
   "cell_type": "code",
   "execution_count": null,
   "id": "192a0bcf-310f-45a5-992d-634c50126242",
   "metadata": {},
   "outputs": [],
   "source": [
    "plt.plot(edr3, '-')\n",
    "\n",
    "edr_peaks,_ = find_peaks(edr3, height=0, distance=4) \n",
    "\n",
    "edr_peaks = edr_peaks\n",
    "resp_peaks_diff = np.diff(edr_peaks) / 4\n",
    "\n",
    "mresprate = edr_peaks.size / 60\n",
    "print('Mean respiratory rate: %.2f Hz' % mresprate)\n",
    "print('Mean respiratory period: %.2f seconds' % (1 / mresprate))\n",
    "print('Respiration RMS: %.2f seconds' % np.sqrt(np.mean(resp_peaks_diff**2)))\n",
    "print('Respiration STD: %.2f seconds' % np.std(resp_peaks_diff))"
   ]
  },
  {
   "cell_type": "code",
   "execution_count": null,
   "id": "c493db83-d5d7-432b-a333-ceefe59f4336",
   "metadata": {},
   "outputs": [],
   "source": [
    "np.mean(resp_peaks_diff)"
   ]
  },
  {
   "cell_type": "code",
   "execution_count": null,
   "id": "c3ce5a78-afc4-4846-a045-2fd8ece503de",
   "metadata": {},
   "outputs": [],
   "source": [
    "df_test = df_test.drop(to_drop, axis=1)"
   ]
  },
  {
   "cell_type": "code",
   "execution_count": 18,
   "id": "4909ff80-f36a-44d8-93bb-72f1e268952c",
   "metadata": {},
   "outputs": [
    {
     "name": "stdout",
     "output_type": "stream",
     "text": [
      "100\n"
     ]
    }
   ],
   "source": [
    "print(model2.n_estimators)"
   ]
  },
  {
   "cell_type": "code",
   "execution_count": null,
   "id": "067f2fd0-f9c6-40ce-8ee0-d35d68ef2bcb",
   "metadata": {},
   "outputs": [],
   "source": []
  }
 ],
 "metadata": {
  "kernelspec": {
   "display_name": "Python 3 (ipykernel)",
   "language": "python",
   "name": "python3"
  },
  "language_info": {
   "codemirror_mode": {
    "name": "ipython",
    "version": 3
   },
   "file_extension": ".py",
   "mimetype": "text/x-python",
   "name": "python",
   "nbconvert_exporter": "python",
   "pygments_lexer": "ipython3",
   "version": "3.8.10"
  }
 },
 "nbformat": 4,
 "nbformat_minor": 5
}
